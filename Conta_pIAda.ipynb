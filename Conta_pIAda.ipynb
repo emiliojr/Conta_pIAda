{
  "nbformat": 4,
  "nbformat_minor": 0,
  "metadata": {
    "colab": {
      "provenance": [],
      "authorship_tag": "ABX9TyPb1VJZz6lRLhcMVXsh+F4J",
      "include_colab_link": true
    },
    "kernelspec": {
      "name": "python3",
      "display_name": "Python 3"
    },
    "language_info": {
      "name": "python"
    }
  },
  "cells": [
    {
      "cell_type": "markdown",
      "metadata": {
        "id": "view-in-github",
        "colab_type": "text"
      },
      "source": [
        "<a href=\"https://colab.research.google.com/github/emiliojr/Conta_pIAda/blob/main/Conta_pIAda.ipynb\" target=\"_parent\"><img src=\"https://colab.research.google.com/assets/colab-badge.svg\" alt=\"Open In Colab\"/></a>"
      ]
    },
    {
      "cell_type": "markdown",
      "source": [
        "# **Conta_pIAda**\n",
        "# É um programa que usa o Google Gemini IA API para gerar piadas, a partir da requisição do usuário em uma janela de texto, na forma de um conjunto de palavras-chave.\n",
        "# Ex: papagaio, vaca em cima da árvore, jogador de futebol, etc.\n",
        "# O programa inclui verificações de conteúdo, descartando determinadas requisições do usuário, para evitar assuntos proibidos que o Gemini não possa atender. Entretanto, as configurações de segurança são deixadas desbloquadas para evitar que o texto fique muito limitado, já que o contexto deve ser criativo, com humorismo."
      ],
      "metadata": {
        "id": "hgVSMqIoCv3u"
      }
    },
    {
      "cell_type": "code",
      "execution_count": 3,
      "metadata": {
        "id": "UfBsmYbYBL1a"
      },
      "outputs": [],
      "source": [
        "#Instalando o SDK do Google\n",
        "!pip install -q -U google-generativeai"
      ]
    },
    {
      "cell_type": "code",
      "source": [
        "#Configurações iniciais\n",
        "import google.generativeai as genai\n",
        "\n",
        "GOOGLE_API_KEY=\"YOUR API KEY\"\n",
        "genai.configure(api_key=GOOGLE_API_KEY)"
      ],
      "metadata": {
        "id": "KoWmb4h8y6bj"
      },
      "execution_count": 4,
      "outputs": []
    },
    {
      "cell_type": "code",
      "source": [
        "# Temperatura 0.5 para permitir alguma liberdade de escolha de palavras\n",
        "generation_config = {\n",
        "  \"candidate_count\": 1,\n",
        "  \"temperature\": 0.5,\n",
        "}"
      ],
      "metadata": {
        "id": "6kHFcJijzJSg"
      },
      "execution_count": 5,
      "outputs": []
    },
    {
      "cell_type": "code",
      "source": [
        "# Segurança \"none\" para aumentar a liberdade de escolha de palavras\n",
        "safety_settings={\n",
        "    'HATE': 'BLOCK_NONE',\n",
        "    'HARASSMENT': 'BLOCK_NONE',\n",
        "    'SEXUAL' : 'BLOCK_NONE',\n",
        "    'DANGEROUS' : 'BLOCK_NONE'\n",
        "    }"
      ],
      "metadata": {
        "id": "bGQ2wu4Sz1-f"
      },
      "execution_count": 6,
      "outputs": []
    },
    {
      "cell_type": "code",
      "source": [
        "# Escolhe o modelo mais antigo\n",
        "model = genai.GenerativeModel(model_name='gemini-1.5-pro-latest',\n",
        "                                  generation_config=generation_config,\n",
        "                                  safety_settings=safety_settings,)"
      ],
      "metadata": {
        "id": "LbCOZw5Z1e8l"
      },
      "execution_count": 69,
      "outputs": []
    },
    {
      "cell_type": "code",
      "source": [
        "# Temas que o Gemini não pode tratar em piadas:\n",
        "\n",
        "temas_proibidos = {\n",
        "    \"racismo\": \"Piadas que ridicularizam ou estereotipam qualquer grupo racial ou étnico.\",\n",
        "    \"sexismo\": \"Piadas que diminuem ou ridicularizam mulheres ou outros gêneros.\",\n",
        "    \"homofobia\": \"Piadas que ridicularizam ou discriminam pessoas LGBTQIA+.\",\n",
        "    \"preconceito\": \"Piadas que ridicularizam ou discriminam qualquer grupo minoritário, como pessoas com deficiência, pessoas com doenças crônicas, pessoas de baixa renda, etc.\",\n",
        "    \"violencia\": \"Piadas que banalizam ou glorificam a violência, incluindo violência doméstica, abuso infantil e terrorismo.\",\n",
        "    \"abuso\": \"Piadas que fazem piada com abuso físico, sexual ou emocional.\",\n",
        "    \"trauma\": \"Piadas que fazem piada com eventos traumáticos, como acidentes, doenças graves ou mortes.\",\n",
        "    \"mau_gosto\": \"Piadas que são grosseiras, vulgares ou ofensivas de outra forma.\",\n",
        "}"
      ],
      "metadata": {
        "id": "EEtCG2Fb_T2R"
      },
      "execution_count": 17,
      "outputs": []
    },
    {
      "cell_type": "code",
      "source": [
        "chat = model.start_chat(history=[])\n",
        "\n",
        "print(\"Conta_pIAda\\n\\n\")\n",
        "print(\"É um programa que usa o Google Gemini IA API para gerar piadas, a partir da requisição do usuário em uma janela de texto, na forma de um conjunto de palavras-chave.\")\n",
        "print(\"Ex: papagaio burro, fantasma no cemitério, jogador de futebol, etc.\")\n",
        "print(\"Quando não quiser mais piadas, escreva a palavra fim.\")\n",
        "print(\"O programa inclui verificações de conteúdo, descartando determinadas requisições do usuário, para evitar assuntos que o Gemini não possa atender.\\n\")\n",
        "\n",
        "prompt = input(\"* Escreva o tema da piada que você quer ver: \\n\\n\")\n",
        "\n",
        "while prompt != \"fim\":\n",
        "  # Verifica se o Gemini tem permissão para fazer piadas sobre o tema solicitado pelo usuário\n",
        "  prompt_check = \"Você tem permissão para fazer piada sobre \" + prompt + \"? Responda apenas sim ou não.\"\n",
        "  response = chat.send_message(prompt_check)\n",
        "  permite = response.text\n",
        "\n",
        "  if permite[:3] == \"Sim\":\n",
        "    response = chat.send_message(\"Faça uma piada engraçada sobre\" + prompt)\n",
        "    print(response.text, '\\n\\n')\n",
        "  else:\n",
        "    print(permite)\n",
        "    print(\"\\nNão pode:\")\n",
        "    for chave in temas_proibidos.keys():\n",
        "      print(f' {chave}: {temas_proibidos[chave]}')\n",
        "    print(\"\\nUse outro tema para a sua piada!\\n\")\n",
        "\n",
        "  #prompt = \"fim\"\n",
        "  print(150 * '-' + '\\n')\n",
        "  prompt = input(\"* Escreva o tema da piada que você quer ver: \\n\\n\")\n"
      ],
      "metadata": {
        "id": "NJ44Myxg161i"
      },
      "execution_count": null,
      "outputs": []
    }
  ]
}